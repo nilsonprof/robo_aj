{
  "nbformat": 4,
  "nbformat_minor": 0,
  "metadata": {
    "colab": {
      "provenance": [],
      "collapsed_sections": [],
      "include_colab_link": true
    },
    "kernelspec": {
      "name": "python3",
      "display_name": "Python 3"
    }
  },
  "cells": [
    {
      "cell_type": "markdown",
      "metadata": {
        "id": "view-in-github",
        "colab_type": "text"
      },
      "source": [
        "<a href=\"https://colab.research.google.com/github/nilsonprof/robo_aj/blob/master/BIG_A1_LinearRegressionStatsmodels.ipynb\" target=\"_parent\"><img src=\"https://colab.research.google.com/assets/colab-badge.svg\" alt=\"Open In Colab\"/></a>"
      ]
    },
    {
      "cell_type": "markdown",
      "metadata": {
        "id": "J3LMBfpeHTwb"
      },
      "source": [
        "<head>\n",
        "  <meta name=\"author\" content=\"Rogério de Oliveira\">\n",
        "  <meta institution=\"author\" content=\"Universidade Presbiteriana Mackenzie\">\n",
        "</head>\n",
        "\n",
        "<img src=\"http://meusite.mackenzie.br/rogerio/mackenzie_logo/UPM.2_horizontal_vermelho.jpg\" width=300, align=\"right\">\n",
        "<!-- <h1 align=left><font size = 6, style=\"color:rgb(200,0,0)\"> optional title </font></h1> -->\n"
      ]
    },
    {
      "cell_type": "markdown",
      "metadata": {
        "id": "zQX8WQPeHTwc"
      },
      "source": [
        "# **Tarefa de Aprofundamento 1** \n",
        "## CASO: Estimando o Preço de Imóveis em São Paulo\n",
        "---\n",
        "<br>\n",
        "<br>\n",
        "\n",
        "\n",
        "\n"
      ]
    },
    {
      "cell_type": "markdown",
      "metadata": {
        "id": "Py6w383Wz2xs"
      },
      "source": [
        "A partir deste notebook crie um modelo de regressão múltipla com a biblioteca `statsmodels` para predição de preço de imóveis com base no histórico de preços e características de vários imóveis de São Paulo. \n",
        "\n",
        "Em seguida, com base nos seus resultados, responda o **questionário do Moodle**. "
      ]
    },
    {
      "cell_type": "markdown",
      "metadata": {
        "id": "nGZH-j05q8WZ"
      },
      "source": [
        "# Basic imports"
      ]
    },
    {
      "cell_type": "code",
      "metadata": {
        "id": "T6FFPMh10lvO"
      },
      "source": [
        "import numpy as np\n",
        "import pandas as pd\n",
        "import matplotlib.pyplot as plt\n",
        "%matplotlib inline\n",
        "import seaborn as sns"
      ],
      "execution_count": 1,
      "outputs": []
    },
    {
      "cell_type": "markdown",
      "metadata": {
        "id": "xir7T5-tsJJa"
      },
      "source": [
        "# Exploração dos Dados"
      ]
    },
    {
      "cell_type": "markdown",
      "metadata": {
        "id": "R4T821bBttsU"
      },
      "source": [
        "Entenda os dados disponíveis e em seguida faça as transformações necessárias nos dados. Quantidades dos dados, se existem valores nulos e valores máximos e mínimos dos atributos são algumas explorações comuns. "
      ]
    },
    {
      "cell_type": "markdown",
      "metadata": {
        "id": "bM4fPIXvstYK"
      },
      "source": [
        "(Moodle) **Q1**. Quantos bairros existem no histórico e qual o bairro mais presente nos dados?\n",
        "\n"
      ]
    },
    {
      "cell_type": "code",
      "metadata": {
        "id": "1rI9MHBaO9qR"
      },
      "source": [
        "df = pd.read_excel('http://meusite.mackenzie.br/rogerio/data_load/regressao_preco_imoveis.xlsx')\n",
        "df.head()"
      ],
      "execution_count": null,
      "outputs": []
    },
    {
      "cell_type": "code",
      "metadata": {
        "id": "zCGFg5vqwwJT",
        "colab": {
          "base_uri": "https://localhost:8080/"
        },
        "outputId": "39ee963f-29b6-4cbe-e22d-c41a12fd934d"
      },
      "source": [
        "# seu código\n",
        "##df.groupby('bairro').agg({'bairro':pd.Series.value_counts})\n",
        "df.bairro.value_counts()"
      ],
      "execution_count": 3,
      "outputs": [
        {
          "output_type": "execute_result",
          "data": {
            "text/plain": [
              "vila-mariana           1714\n",
              "paraiso                 802\n",
              "vila-nova-conceicao     789\n",
              "vila-sonia              307\n",
              "morumbi                 129\n",
              "Name: bairro, dtype: int64"
            ]
          },
          "metadata": {},
          "execution_count": 3
        }
      ]
    },
    {
      "cell_type": "markdown",
      "source": [
        "**R1** 5  Bairros\n",
        "##O Bairro mais presente é \"vila-mariana ->> 1714 ocorrencias\""
      ],
      "metadata": {
        "id": "jNqc_2veHzjA"
      }
    },
    {
      "cell_type": "markdown",
      "metadata": {
        "id": "zOOVEBpDtz4E"
      },
      "source": [
        "# Preparação dos Dados\n",
        "\n",
        "Use [statsmodels.formula.api](https://www.statsmodels.org/dev/generated/statsmodels.formula.api.ols.html)\n",
        "\n",
        "```\n",
        "from statsmodels.formula.api import ols   \n",
        "```\n",
        "\n",
        "Se você empregar esta forma do `statsmodels` ele fará de modo implítico o hot encode dos dados e não há necessidade de nenhuma transformação dos dados (não faremos a normalização aqui. Embora sempre recomendável na maior parte dos casos, aqui o resultado de predição será o mesmo com o sem a normalização).\n",
        "\n",
        "Atenção, se você empregar \n",
        "```\n",
        "from statsmodels.api import OLS \n",
        "```\n",
        "os resultados serão os mesmos, mas alguma preparação nos dados será necessária e a construção do modelo será um pouco diferente."
      ]
    },
    {
      "cell_type": "code",
      "metadata": {
        "id": "Sait1Ah_tgmQ"
      },
      "source": [
        "from statsmodels.formula.api import ols   \n",
        "\n",
        "# nada a fazer se estiver empregando a api acima"
      ],
      "execution_count": 14,
      "outputs": []
    },
    {
      "cell_type": "markdown",
      "metadata": {
        "id": "hEKtLebAmZrZ"
      },
      "source": [
        "# Estimando o modelo com o `statsmodels`\n",
        "\n",
        "Estime o modelo."
      ]
    },
    {
      "cell_type": "markdown",
      "metadata": {
        "id": "4KB5hJx6uCHS"
      },
      "source": [
        "(Moodle) **Q2**. Qual o coeficiente de determinação ajustado obtido?\n",
        "\n",
        "Dica: empregue `result.rsquared_adj` no lugar de `result.summary()` para obter resultados com maior precisão.\n",
        "\n",
        "(Moodle) **Q3**. Qual coeficiente estimado é menos significativo?"
      ]
    },
    {
      "cell_type": "code",
      "metadata": {
        "id": "AaDqRKl7vlVp",
        "outputId": "8e7ae79f-d8a0-4554-a371-78596a8e35e0",
        "colab": {
          "base_uri": "https://localhost:8080/"
        }
      },
      "source": [
        "# seu código\n",
        "\n",
        "import statsmodels.formula.api as sm \n",
        "\n",
        "model_1 = sm.ols (formula = \"preco ~ bairro +\tareaM2 + suites + dormitorios + banheiros + vagas\", data=df)\n",
        "result_1 = model_1.fit()\n",
        "\n",
        "##print()\n",
        "print(result_1.summary())"
      ],
      "execution_count": 19,
      "outputs": [
        {
          "output_type": "stream",
          "name": "stdout",
          "text": [
            "                            OLS Regression Results                            \n",
            "==============================================================================\n",
            "Dep. Variable:                  preco   R-squared:                       0.795\n",
            "Model:                            OLS   Adj. R-squared:                  0.795\n",
            "Method:                 Least Squares   F-statistic:                     1611.\n",
            "Date:                Thu, 01 Sep 2022   Prob (F-statistic):               0.00\n",
            "Time:                        23:33:53   Log-Likelihood:                -54290.\n",
            "No. Observations:                3741   AIC:                         1.086e+05\n",
            "Df Residuals:                    3731   BIC:                         1.087e+05\n",
            "Df Model:                           9                                         \n",
            "Covariance Type:            nonrobust                                         \n",
            "=================================================================================================\n",
            "                                    coef    std err          t      P>|t|      [0.025      0.975]\n",
            "-------------------------------------------------------------------------------------------------\n",
            "Intercept                      -3.16e+05   5.35e+04     -5.911      0.000   -4.21e+05   -2.11e+05\n",
            "bairro[T.paraiso]              8.331e+04   4.68e+04      1.781      0.075   -8410.743    1.75e+05\n",
            "bairro[T.vila-mariana]         -1.18e+05   4.44e+04     -2.657      0.008   -2.05e+05   -3.09e+04\n",
            "bairro[T.vila-nova-conceicao]  7.698e+05   4.66e+04     16.502      0.000    6.78e+05    8.61e+05\n",
            "bairro[T.vila-sonia]          -5.245e+05   5.13e+04    -10.234      0.000   -6.25e+05   -4.24e+05\n",
            "areaM2                         7580.2937    241.143     31.435      0.000    7107.508    8053.079\n",
            "suites                         1.532e+05   1.33e+04     11.524      0.000    1.27e+05    1.79e+05\n",
            "dormitorios                   -9.971e+04    1.5e+04     -6.655      0.000   -1.29e+05   -7.03e+04\n",
            "banheiros                      4755.9925   8373.499      0.568      0.570   -1.17e+04    2.12e+04\n",
            "vagas                          3.331e+05   1.36e+04     24.503      0.000    3.06e+05     3.6e+05\n",
            "==============================================================================\n",
            "Omnibus:                     1315.549   Durbin-Watson:                   1.972\n",
            "Prob(Omnibus):                  0.000   Jarque-Bera (JB):            12370.154\n",
            "Skew:                           1.401   Prob(JB):                         0.00\n",
            "Kurtosis:                      11.457   Cond. No.                     1.89e+03\n",
            "==============================================================================\n",
            "\n",
            "Notes:\n",
            "[1] Standard Errors assume that the covariance matrix of the errors is correctly specified.\n",
            "[2] The condition number is large, 1.89e+03. This might indicate that there are\n",
            "strong multicollinearity or other numerical problems.\n"
          ]
        }
      ]
    },
    {
      "cell_type": "markdown",
      "source": [
        "**R2** - Coeficiente Ajustado --> 0.795\n",
        "\n",
        "**R3** - Coeficiente de Menor Relevância -> banheiros  (pValue-> 0.570)\n",
        "\n"
      ],
      "metadata": {
        "id": "w1m187sNLSTX"
      }
    },
    {
      "cell_type": "markdown",
      "metadata": {
        "id": "dgS10RfFwvwo"
      },
      "source": [
        "# Re-estimando o modelo com o `statsmodels`\n",
        "\n",
        "Estime novamente o modelo excluindo o atributo menos significativo (um único atributo). "
      ]
    },
    {
      "cell_type": "markdown",
      "source": [],
      "metadata": {
        "id": "-PTAqiOtN-QP"
      }
    },
    {
      "cell_type": "markdown",
      "metadata": {
        "id": "D-O_AgTfwvwo"
      },
      "source": [
        "(Moodle) **Q4**. Qual o novo coeficiente de determinação ajustado obtido?\n"
      ]
    },
    {
      "cell_type": "code",
      "metadata": {
        "id": "E_HLvYgGugge",
        "outputId": "f7d4eef7-ea71-40db-813a-051024f25d95",
        "colab": {
          "base_uri": "https://localhost:8080/"
        }
      },
      "source": [
        "## Retirando a Variável \"banheiros\"\n",
        "import statsmodels.formula.api as sm \n",
        "model_2 = sm.ols(formula = \"preco ~ bairro + areaM2 + suites + dormitorios + vagas\", data=df)\n",
        "result_2 = model_2.fit()\n",
        "print()\n",
        "print(result_2.summary())"
      ],
      "execution_count": 11,
      "outputs": [
        {
          "output_type": "stream",
          "name": "stdout",
          "text": [
            "\n",
            "                            OLS Regression Results                            \n",
            "==============================================================================\n",
            "Dep. Variable:                  preco   R-squared:                       0.795\n",
            "Model:                            OLS   Adj. R-squared:                  0.795\n",
            "Method:                 Least Squares   F-statistic:                     1812.\n",
            "Date:                Thu, 01 Sep 2022   Prob (F-statistic):               0.00\n",
            "Time:                        23:12:50   Log-Likelihood:                -54290.\n",
            "No. Observations:                3741   AIC:                         1.086e+05\n",
            "Df Residuals:                    3732   BIC:                         1.087e+05\n",
            "Df Model:                           8                                         \n",
            "Covariance Type:            nonrobust                                         \n",
            "=================================================================================================\n",
            "                                    coef    std err          t      P>|t|      [0.025      0.975]\n",
            "-------------------------------------------------------------------------------------------------\n",
            "Intercept                      -3.14e+05   5.33e+04     -5.887      0.000   -4.19e+05   -2.09e+05\n",
            "bairro[T.paraiso]              8.287e+04   4.68e+04      1.772      0.076   -8824.930    1.75e+05\n",
            "bairro[T.vila-mariana]        -1.181e+05   4.44e+04     -2.659      0.008   -2.05e+05    -3.1e+04\n",
            "bairro[T.vila-nova-conceicao]  7.689e+05   4.66e+04     16.494      0.000    6.78e+05     8.6e+05\n",
            "bairro[T.vila-sonia]          -5.246e+05   5.12e+04    -10.237      0.000   -6.25e+05   -4.24e+05\n",
            "areaM2                         7591.9890    240.241     31.602      0.000    7120.973    8063.005\n",
            "suites                         1.561e+05   1.23e+04     12.700      0.000    1.32e+05     1.8e+05\n",
            "dormitorios                   -9.795e+04   1.47e+04     -6.683      0.000   -1.27e+05   -6.92e+04\n",
            "vagas                          3.337e+05   1.35e+04     24.631      0.000    3.07e+05     3.6e+05\n",
            "==============================================================================\n",
            "Omnibus:                     1314.663   Durbin-Watson:                   1.972\n",
            "Prob(Omnibus):                  0.000   Jarque-Bera (JB):            12354.953\n",
            "Skew:                           1.400   Prob(JB):                         0.00\n",
            "Kurtosis:                      11.451   Cond. No.                     1.89e+03\n",
            "==============================================================================\n",
            "\n",
            "Notes:\n",
            "[1] Standard Errors assume that the covariance matrix of the errors is correctly specified.\n",
            "[2] The condition number is large, 1.89e+03. This might indicate that there are\n",
            "strong multicollinearity or other numerical problems.\n"
          ]
        }
      ]
    },
    {
      "cell_type": "markdown",
      "source": [
        "**R4** - Coeficiente: 0.795\n",
        "\n",
        "```\n",
        "# Isto está formatado como código\n",
        "```\n",
        "\n",
        "\n"
      ],
      "metadata": {
        "id": "RpVd6e2yht2X"
      }
    },
    {
      "cell_type": "markdown",
      "metadata": {
        "id": "vR_Q4ifCttKD"
      },
      "source": [
        "# Predição\n",
        "\n",
        "Faça a predição do preço, com o melhor dos modelos obtidos acima, de um imóvel na Vila Mariana, com 134 m2, 1 suite, 4 dorm, 3 banheiros e 3 vagas.\n",
        "\n"
      ]
    },
    {
      "cell_type": "markdown",
      "metadata": {
        "id": "tMjCg31VzFWX"
      },
      "source": [
        "(Moodle) **Q5**. Qual o preço estimado, para o melhor dos modelos obtidos, de um imóvel na Vila Mariana, com 134 m2, 1 suite, 4 dorm, 3 banheiros e 3 vagas?\n",
        "\n"
      ]
    },
    {
      "cell_type": "code",
      "source": [
        "df.columns"
      ],
      "metadata": {
        "id": "CQTdUCn8Uw7S",
        "outputId": "40e3589d-7fb8-4258-dee8-8e967bd02ce6",
        "colab": {
          "base_uri": "https://localhost:8080/"
        }
      },
      "execution_count": 12,
      "outputs": [
        {
          "output_type": "execute_result",
          "data": {
            "text/plain": [
              "Index(['bairro', 'areaM2', 'suites', 'dormitorios', 'banheiros', 'vagas',\n",
              "       'preco'],\n",
              "      dtype='object')"
            ]
          },
          "metadata": {},
          "execution_count": 12
        }
      ]
    },
    {
      "cell_type": "code",
      "metadata": {
        "id": "4GZZsfngq007",
        "outputId": "82dd2ddb-e85b-4998-89e6-3106eb2fa143",
        "colab": {
          "base_uri": "https://localhost:8080/"
        }
      },
      "source": [
        "# seu código\n",
        "df2 = pd.DataFrame({'bairro':['vila-mariana'], 'areaM2':[134], 'dormitorios':4,'suites':[1], 'banheiros':[3], 'vagas':[3]})\n",
        "df2.head()\n",
        "result_1.predict(df2)"
      ],
      "execution_count": 13,
      "outputs": [
        {
          "output_type": "execute_result",
          "data": {
            "text/plain": [
              "0    1.349653e+06\n",
              "dtype: float64"
            ]
          },
          "metadata": {},
          "execution_count": 13
        }
      ]
    },
    {
      "cell_type": "markdown",
      "source": [
        "**R5** O Preco de um Imóvel com as características informadas seria: 1.349.653,00 $ (Aproximadamente)"
      ],
      "metadata": {
        "id": "J0Zn--h2WwGO"
      }
    }
  ]
}